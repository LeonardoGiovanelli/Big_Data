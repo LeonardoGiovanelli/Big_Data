{
 "cells": [
  {
   "cell_type": "markdown",
   "metadata": {},
   "source": [
    "# Quais os top5 produtos com maior venda (em quantidade) no histórico da empresa?"
   ]
  },
  {
   "cell_type": "code",
   "execution_count": 1,
   "metadata": {},
   "outputs": [],
   "source": [
    "import os\n",
    "os.getpid()\n",
    "import numpy as np\n",
    "import pandas as pd\n",
    "import time\n",
    "from itertools import groupby\n",
    "from operator import itemgetter\n",
    "import itertools"
   ]
  },
  {
   "cell_type": "code",
   "execution_count": 2,
   "metadata": {},
   "outputs": [],
   "source": [
    "run support_functions.py"
   ]
  },
  {
   "cell_type": "code",
   "execution_count": 3,
   "metadata": {},
   "outputs": [
    {
     "name": "stdout",
     "output_type": "stream",
     "text": [
      "Pasta já existe!\n"
     ]
    }
   ],
   "source": [
    "output_path=\"PPasta\"\n",
    "\n",
    "try:\n",
    "    os.mkdir(output_path)\n",
    "except:\n",
    "    print('Pasta já existe!')"
   ]
  },
  {
   "cell_type": "markdown",
   "metadata": {},
   "source": [
    "# Split data"
   ]
  },
  {
   "cell_type": "code",
   "execution_count": 4,
   "metadata": {},
   "outputs": [
    {
     "name": "stdout",
     "output_type": "stream",
     "text": [
      "Closing file PPasta/sales_data_part_64.csv\n",
      "Finished!\n",
      "--- 1.49 minutes ---\n"
     ]
    }
   ],
   "source": [
    "start_time = time.time()\n",
    "\n",
    "file=\"sales_data_full.csv\"\n",
    "files = split_file(file, output_path = output_path)\n",
    "print(\"--- %s minutes ---\" % (round((time.time() - start_time)/60,2)))"
   ]
  },
  {
   "cell_type": "markdown",
   "metadata": {},
   "source": [
    "# Fórmulas"
   ]
  },
  {
   "cell_type": "code",
   "execution_count": 5,
   "metadata": {},
   "outputs": [],
   "source": [
    "def intt(t):\n",
    "    a=list(map(lambda x: int(x),t))\n",
    "    return(a) \n",
    "\n",
    "def splitt(data):\n",
    "    with open(data) as f:\n",
    "        lines = f.readlines()\n",
    "        lines=list(map(lambda x: x.split(\"|\"),lines))\n",
    "        prod=list(map(lambda x: int(x[0]),lines))\n",
    "        \n",
    "        quant=list(map(lambda x: x[3][1:-1],lines))\n",
    "        quant=list(map(lambda x: x.split(\",\"),quant))\n",
    "        quant=list(map(lambda x: intt(x),quant))\n",
    "        a=list(zip(prod,quant))\n",
    "    return(a)\n",
    "   "
   ]
  },
  {
   "cell_type": "markdown",
   "metadata": {},
   "source": [
    "# Produtos"
   ]
  },
  {
   "cell_type": "code",
   "execution_count": 6,
   "metadata": {},
   "outputs": [
    {
     "name": "stdout",
     "output_type": "stream",
     "text": [
      "--- 2.39 minutes ---\n"
     ]
    }
   ],
   "source": [
    "start_time = time.time()\n",
    "\n",
    "prod_quant=list(map(lambda x: splitt(x),files))\n",
    "\n",
    "print(\"--- %s minutes ---\" % (round((time.time() - start_time)/60,2)))"
   ]
  },
  {
   "cell_type": "code",
   "execution_count": 7,
   "metadata": {},
   "outputs": [
    {
     "name": "stdout",
     "output_type": "stream",
     "text": [
      "--- 0.08 minutes ---\n"
     ]
    }
   ],
   "source": [
    "start_time = time.time()\n",
    "\n",
    "prod_quant2=prod_quant[0]\n",
    "for i in range(1,len(prod_quant)):\n",
    "    prod_quant2=prod_quant2+prod_quant[i]\n",
    "\n",
    "print(\"--- %s minutes ---\" % (round((time.time() - start_time)/60,2)))"
   ]
  },
  {
   "cell_type": "code",
   "execution_count": 8,
   "metadata": {},
   "outputs": [],
   "source": [
    "l=int(len(prod_quant2)/2)\n",
    "\n",
    "prod_s0=sorted(prod_quant2[0:l], key=lambda x: x[0])\n",
    "prod_s1=sorted(prod_quant2[l:-1], key=lambda x: x[0])\n"
   ]
  },
  {
   "cell_type": "code",
   "execution_count": 9,
   "metadata": {},
   "outputs": [],
   "source": [
    "prod_s01=list()\n",
    "key_func = lambda x: x[0]\n",
    "for key, group in itertools.groupby(prod_s0, key_func): \n",
    "    prod_s01.append(list(group))\n",
    "    \n",
    "    \n",
    "\n",
    "prod_s11=list()\n",
    "key_func = lambda x: x[0]\n",
    "for key, group in itertools.groupby(prod_s1, key_func): \n",
    "    prod_s11.append(list(group))"
   ]
  },
  {
   "cell_type": "code",
   "execution_count": 10,
   "metadata": {},
   "outputs": [],
   "source": [
    "def QL(d):\n",
    "    a=list(map(lambda x: sum(x[1]),d ))\n",
    "    a=sum(a)\n",
    "    return(a)\n",
    "    "
   ]
  },
  {
   "cell_type": "code",
   "execution_count": 11,
   "metadata": {},
   "outputs": [],
   "source": [
    "produtos0=list(map(lambda x: x[0][0],prod_s01))\n",
    "QP0=list(map(lambda x: QL(x),prod_s01))\n",
    "Q0=list(zip(produtos0,QP0))\n",
    "\n",
    "produtos1=list(map(lambda x: x[0][0],prod_s11))\n",
    "QP1=list(map(lambda x: QL(x),prod_s11))\n",
    "Q1=list(zip(produtos1,QP1))"
   ]
  },
  {
   "cell_type": "code",
   "execution_count": 12,
   "metadata": {},
   "outputs": [],
   "source": [
    "Q2=Q0+Q1\n",
    "Q2=sorted(Q2[0:l], key=lambda x: x[0])\n",
    "\n",
    "Q3=list()\n",
    "key_func = lambda x: x[0]\n",
    "for key, group in itertools.groupby(Q2, key_func): \n",
    "    Q3.append(list(group))"
   ]
  },
  {
   "cell_type": "code",
   "execution_count": 13,
   "metadata": {},
   "outputs": [],
   "source": [
    "Q4=list(map(lambda x: x[0][1]+x[1][1],Q3))"
   ]
  },
  {
   "cell_type": "code",
   "execution_count": 14,
   "metadata": {},
   "outputs": [],
   "source": [
    "produtos=np.unique(produtos0+produtos1)"
   ]
  },
  {
   "cell_type": "code",
   "execution_count": 15,
   "metadata": {},
   "outputs": [
    {
     "data": {
      "text/html": [
       "<div>\n",
       "<style scoped>\n",
       "    .dataframe tbody tr th:only-of-type {\n",
       "        vertical-align: middle;\n",
       "    }\n",
       "\n",
       "    .dataframe tbody tr th {\n",
       "        vertical-align: top;\n",
       "    }\n",
       "\n",
       "    .dataframe thead th {\n",
       "        text-align: right;\n",
       "    }\n",
       "</style>\n",
       "<table border=\"1\" class=\"dataframe\">\n",
       "  <thead>\n",
       "    <tr style=\"text-align: right;\">\n",
       "      <th></th>\n",
       "      <th>Produto</th>\n",
       "      <th>Quantidade</th>\n",
       "    </tr>\n",
       "  </thead>\n",
       "  <tbody>\n",
       "    <tr>\n",
       "      <th>0</th>\n",
       "      <td>643</td>\n",
       "      <td>986581</td>\n",
       "    </tr>\n",
       "    <tr>\n",
       "      <th>1</th>\n",
       "      <td>11096</td>\n",
       "      <td>806005</td>\n",
       "    </tr>\n",
       "    <tr>\n",
       "      <th>2</th>\n",
       "      <td>9</td>\n",
       "      <td>805648</td>\n",
       "    </tr>\n",
       "    <tr>\n",
       "      <th>3</th>\n",
       "      <td>2322</td>\n",
       "      <td>677642</td>\n",
       "    </tr>\n",
       "    <tr>\n",
       "      <th>4</th>\n",
       "      <td>1908</td>\n",
       "      <td>667034</td>\n",
       "    </tr>\n",
       "  </tbody>\n",
       "</table>\n",
       "</div>"
      ],
      "text/plain": [
       "   Produto  Quantidade\n",
       "0      643      986581\n",
       "1    11096      806005\n",
       "2        9      805648\n",
       "3     2322      677642\n",
       "4     1908      667034"
      ]
     },
     "execution_count": 15,
     "metadata": {},
     "output_type": "execute_result"
    }
   ],
   "source": [
    "import pandas as pd\n",
    "\n",
    "df=[produtos,Q4]\n",
    "df=pd.DataFrame(df).T\n",
    "df.columns=['Produto','Quantidade']\n",
    "df=df.sort_values(by=['Quantidade'],ascending=False)[0:5]\n",
    "df.reset_index(drop=True)"
   ]
  }
 ],
 "metadata": {
  "kernelspec": {
   "display_name": "Python 3",
   "language": "python",
   "name": "python3"
  },
  "language_info": {
   "codemirror_mode": {
    "name": "ipython",
    "version": 3
   },
   "file_extension": ".py",
   "mimetype": "text/x-python",
   "name": "python",
   "nbconvert_exporter": "python",
   "pygments_lexer": "ipython3",
   "version": "3.7.6"
  }
 },
 "nbformat": 4,
 "nbformat_minor": 4
}
